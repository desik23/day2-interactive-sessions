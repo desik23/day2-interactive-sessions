{
 "cells": [
  {
   "cell_type": "markdown",
   "id": "001711d3",
   "metadata": {},
   "source": [
    "## Introduction to Jupyter\n",
    "### Desik Somasundaram\n",
    "#### EDS212\n",
    "\n",
    "- bullets\n"
   ]
  },
  {
   "cell_type": "code",
   "execution_count": 9,
   "id": "260f49e1",
   "metadata": {},
   "outputs": [],
   "source": [
    "teddy = 10"
   ]
  },
  {
   "cell_type": "code",
   "execution_count": 10,
   "id": "544d1d1f",
   "metadata": {},
   "outputs": [
    {
     "data": {
      "text/plain": [
       "10"
      ]
     },
     "execution_count": 10,
     "metadata": {},
     "output_type": "execute_result"
    }
   ],
   "source": [
    "teddy"
   ]
  },
  {
   "cell_type": "code",
   "execution_count": 11,
   "id": "06598cd3",
   "metadata": {},
   "outputs": [
    {
     "data": {
      "text/plain": [
       "30"
      ]
     },
     "execution_count": 11,
     "metadata": {},
     "output_type": "execute_result"
    }
   ],
   "source": [
    "teddy + 20"
   ]
  },
  {
   "cell_type": "code",
   "execution_count": 12,
   "id": "e27d7d8e",
   "metadata": {},
   "outputs": [],
   "source": [
    "def my_sum(apples, bananas):\n",
    "    fruit_total = apples + bananas\n",
    "    print(fruit_total)"
   ]
  },
  {
   "cell_type": "code",
   "execution_count": 13,
   "id": "d60f7b1b",
   "metadata": {},
   "outputs": [
    {
     "name": "stdout",
     "output_type": "stream",
     "text": [
      "10\n"
     ]
    }
   ],
   "source": [
    "my_sum(5,100)"
   ]
  },
  {
   "cell_type": "code",
   "execution_count": null,
   "id": "f18fa7e0",
   "metadata": {},
   "outputs": [],
   "source": []
  }
 ],
 "metadata": {
  "kernelspec": {
   "display_name": "Python 3",
   "language": "python",
   "name": "python3"
  },
  "language_info": {
   "codemirror_mode": {
    "name": "ipython",
    "version": 3
   },
   "file_extension": ".py",
   "mimetype": "text/x-python",
   "name": "python",
   "nbconvert_exporter": "python",
   "pygments_lexer": "ipython3",
   "version": "3.8.8"
  }
 },
 "nbformat": 4,
 "nbformat_minor": 5
}
